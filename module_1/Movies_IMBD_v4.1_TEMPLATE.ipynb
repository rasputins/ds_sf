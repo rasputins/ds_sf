{
 "cells": [
  {
   "cell_type": "code",
   "execution_count": 705,
   "metadata": {
    "_cell_guid": "b1076dfc-b9ad-4769-8c92-a6c4dae69d19",
    "_uuid": "8f2839f25d086af736a60e9eeb907d3b93b6e0e5",
    "colab": {},
    "colab_type": "code",
    "id": "U2D2gTdJVp90"
   },
   "outputs": [],
   "source": [
    "import numpy as np\n",
    "import pandas as pd\n",
    "import seaborn as sns\n",
    "import matplotlib.pyplot as plt\n",
    "from collections import Counter\n",
    "import itertools"
   ]
  },
  {
   "cell_type": "code",
   "execution_count": 706,
   "metadata": {
    "_cell_guid": "79c7e3d0-c299-4dcb-8224-4455121ee9b0",
    "_uuid": "d629ff2d2480ee46fbb7e2d37f6b5fab8052498a",
    "colab": {},
    "colab_type": "code",
    "id": "oyGfxL3eVp9-"
   },
   "outputs": [
    {
     "data": {
      "text/html": [
       "<div>\n",
       "<style scoped>\n",
       "    .dataframe tbody tr th:only-of-type {\n",
       "        vertical-align: middle;\n",
       "    }\n",
       "\n",
       "    .dataframe tbody tr th {\n",
       "        vertical-align: top;\n",
       "    }\n",
       "\n",
       "    .dataframe thead th {\n",
       "        text-align: right;\n",
       "    }\n",
       "</style>\n",
       "<table border=\"1\" class=\"dataframe\">\n",
       "  <thead>\n",
       "    <tr style=\"text-align: right;\">\n",
       "      <th></th>\n",
       "      <th>imdb_id</th>\n",
       "      <th>budget</th>\n",
       "      <th>revenue</th>\n",
       "      <th>original_title</th>\n",
       "      <th>cast</th>\n",
       "      <th>director</th>\n",
       "      <th>tagline</th>\n",
       "      <th>overview</th>\n",
       "      <th>runtime</th>\n",
       "      <th>genres</th>\n",
       "      <th>production_companies</th>\n",
       "      <th>release_date</th>\n",
       "      <th>vote_average</th>\n",
       "      <th>release_year</th>\n",
       "    </tr>\n",
       "  </thead>\n",
       "  <tbody>\n",
       "    <tr>\n",
       "      <th>1748</th>\n",
       "      <td>tt0292963</td>\n",
       "      <td>18000000</td>\n",
       "      <td>25005257</td>\n",
       "      <td>Before the Devil Knows You're Dead</td>\n",
       "      <td>Philip Seymour Hoffman|Ethan Hawke|Albert Finn...</td>\n",
       "      <td>Sidney Lumet</td>\n",
       "      <td>No one was supposed to get hurt.</td>\n",
       "      <td>When two brothers organize the robbery of thei...</td>\n",
       "      <td>117</td>\n",
       "      <td>Crime|Drama|Thriller</td>\n",
       "      <td>Capitol Films|Linsefilm|Unity Productions|Mich...</td>\n",
       "      <td>9/26/2007</td>\n",
       "      <td>6.7</td>\n",
       "      <td>2007</td>\n",
       "    </tr>\n",
       "    <tr>\n",
       "      <th>1207</th>\n",
       "      <td>tt1588173</td>\n",
       "      <td>35000000</td>\n",
       "      <td>116980662</td>\n",
       "      <td>Warm Bodies</td>\n",
       "      <td>Nicholas Hoult|Teresa Palmer|Analeigh Tipton|R...</td>\n",
       "      <td>Jonathan Levine</td>\n",
       "      <td>Cold body. Warm heart.</td>\n",
       "      <td>After a zombie becomes involved with the girlf...</td>\n",
       "      <td>97</td>\n",
       "      <td>Horror|Comedy|Romance</td>\n",
       "      <td>Summit Entertainment</td>\n",
       "      <td>1/31/2013</td>\n",
       "      <td>6.4</td>\n",
       "      <td>2013</td>\n",
       "    </tr>\n",
       "    <tr>\n",
       "      <th>254</th>\n",
       "      <td>tt0780521</td>\n",
       "      <td>105000000</td>\n",
       "      <td>267045765</td>\n",
       "      <td>The Princess and the Frog</td>\n",
       "      <td>Anika Noni Rose|Bruno Campos|Keith David|Micha...</td>\n",
       "      <td>Ron Clements|John Musker</td>\n",
       "      <td>Every Love Story Begins With a Kiss...</td>\n",
       "      <td>A waitress, desperate to fulfill her dreams as...</td>\n",
       "      <td>97</td>\n",
       "      <td>Romance|Family|Animation|Music</td>\n",
       "      <td>Walt Disney Pictures|Walt Disney Animation Stu...</td>\n",
       "      <td>12/8/2009</td>\n",
       "      <td>6.5</td>\n",
       "      <td>2009</td>\n",
       "    </tr>\n",
       "    <tr>\n",
       "      <th>775</th>\n",
       "      <td>tt1253864</td>\n",
       "      <td>75000000</td>\n",
       "      <td>226904017</td>\n",
       "      <td>Immortals</td>\n",
       "      <td>Mickey Rourke|Kellan Lutz|Isabel Lucas|Henry C...</td>\n",
       "      <td>Tarsem Singh</td>\n",
       "      <td>The Gods need a hero.</td>\n",
       "      <td>Theseus is a mortal man chosen by Zeus to lead...</td>\n",
       "      <td>110</td>\n",
       "      <td>Fantasy|Action|Drama</td>\n",
       "      <td>Virgin Produced|Mark Canton Productions</td>\n",
       "      <td>11/10/2011</td>\n",
       "      <td>5.6</td>\n",
       "      <td>2011</td>\n",
       "    </tr>\n",
       "    <tr>\n",
       "      <th>1034</th>\n",
       "      <td>tt1430626</td>\n",
       "      <td>60000000</td>\n",
       "      <td>118338361</td>\n",
       "      <td>The Pirates! In an Adventure with Scientists!</td>\n",
       "      <td>Hugh Grant|Brendan Gleeson|Jeremy Piven|Brian ...</td>\n",
       "      <td>Peter Lord|Jeff Newitt</td>\n",
       "      <td>It's A Plunderful Life</td>\n",
       "      <td>In The Pirates! Band of Misfits, Hugh Grant st...</td>\n",
       "      <td>88</td>\n",
       "      <td>Animation|Adventure|Family|Comedy</td>\n",
       "      <td>Columbia Pictures|Aardman Animations|Sony Pict...</td>\n",
       "      <td>3/12/2012</td>\n",
       "      <td>6.4</td>\n",
       "      <td>2012</td>\n",
       "    </tr>\n",
       "  </tbody>\n",
       "</table>\n",
       "</div>"
      ],
      "text/plain": [
       "        imdb_id     budget    revenue  \\\n",
       "1748  tt0292963   18000000   25005257   \n",
       "1207  tt1588173   35000000  116980662   \n",
       "254   tt0780521  105000000  267045765   \n",
       "775   tt1253864   75000000  226904017   \n",
       "1034  tt1430626   60000000  118338361   \n",
       "\n",
       "                                     original_title  \\\n",
       "1748             Before the Devil Knows You're Dead   \n",
       "1207                                    Warm Bodies   \n",
       "254                       The Princess and the Frog   \n",
       "775                                       Immortals   \n",
       "1034  The Pirates! In an Adventure with Scientists!   \n",
       "\n",
       "                                                   cast  \\\n",
       "1748  Philip Seymour Hoffman|Ethan Hawke|Albert Finn...   \n",
       "1207  Nicholas Hoult|Teresa Palmer|Analeigh Tipton|R...   \n",
       "254   Anika Noni Rose|Bruno Campos|Keith David|Micha...   \n",
       "775   Mickey Rourke|Kellan Lutz|Isabel Lucas|Henry C...   \n",
       "1034  Hugh Grant|Brendan Gleeson|Jeremy Piven|Brian ...   \n",
       "\n",
       "                      director                                 tagline  \\\n",
       "1748              Sidney Lumet        No one was supposed to get hurt.   \n",
       "1207           Jonathan Levine                  Cold body. Warm heart.   \n",
       "254   Ron Clements|John Musker  Every Love Story Begins With a Kiss...   \n",
       "775               Tarsem Singh                   The Gods need a hero.   \n",
       "1034    Peter Lord|Jeff Newitt                  It's A Plunderful Life   \n",
       "\n",
       "                                               overview  runtime  \\\n",
       "1748  When two brothers organize the robbery of thei...      117   \n",
       "1207  After a zombie becomes involved with the girlf...       97   \n",
       "254   A waitress, desperate to fulfill her dreams as...       97   \n",
       "775   Theseus is a mortal man chosen by Zeus to lead...      110   \n",
       "1034  In The Pirates! Band of Misfits, Hugh Grant st...       88   \n",
       "\n",
       "                                 genres  \\\n",
       "1748               Crime|Drama|Thriller   \n",
       "1207              Horror|Comedy|Romance   \n",
       "254      Romance|Family|Animation|Music   \n",
       "775                Fantasy|Action|Drama   \n",
       "1034  Animation|Adventure|Family|Comedy   \n",
       "\n",
       "                                   production_companies release_date  \\\n",
       "1748  Capitol Films|Linsefilm|Unity Productions|Mich...    9/26/2007   \n",
       "1207                               Summit Entertainment    1/31/2013   \n",
       "254   Walt Disney Pictures|Walt Disney Animation Stu...    12/8/2009   \n",
       "775             Virgin Produced|Mark Canton Productions   11/10/2011   \n",
       "1034  Columbia Pictures|Aardman Animations|Sony Pict...    3/12/2012   \n",
       "\n",
       "      vote_average  release_year  \n",
       "1748           6.7          2007  \n",
       "1207           6.4          2013  \n",
       "254            6.5          2009  \n",
       "775            5.6          2011  \n",
       "1034           6.4          2012  "
      ]
     },
     "execution_count": 706,
     "metadata": {},
     "output_type": "execute_result"
    }
   ],
   "source": [
    "data = pd.read_csv('movie_bd_v5.csv')\n",
    "data.sample(5)"
   ]
  },
  {
   "cell_type": "code",
   "execution_count": 707,
   "metadata": {
    "colab": {},
    "colab_type": "code",
    "id": "CoYUnagMVp-C"
   },
   "outputs": [
    {
     "data": {
      "text/html": [
       "<div>\n",
       "<style scoped>\n",
       "    .dataframe tbody tr th:only-of-type {\n",
       "        vertical-align: middle;\n",
       "    }\n",
       "\n",
       "    .dataframe tbody tr th {\n",
       "        vertical-align: top;\n",
       "    }\n",
       "\n",
       "    .dataframe thead th {\n",
       "        text-align: right;\n",
       "    }\n",
       "</style>\n",
       "<table border=\"1\" class=\"dataframe\">\n",
       "  <thead>\n",
       "    <tr style=\"text-align: right;\">\n",
       "      <th></th>\n",
       "      <th>budget</th>\n",
       "      <th>revenue</th>\n",
       "      <th>runtime</th>\n",
       "      <th>vote_average</th>\n",
       "      <th>release_year</th>\n",
       "    </tr>\n",
       "  </thead>\n",
       "  <tbody>\n",
       "    <tr>\n",
       "      <th>count</th>\n",
       "      <td>1.889000e+03</td>\n",
       "      <td>1.889000e+03</td>\n",
       "      <td>1889.000000</td>\n",
       "      <td>1889.000000</td>\n",
       "      <td>1889.000000</td>\n",
       "    </tr>\n",
       "    <tr>\n",
       "      <th>mean</th>\n",
       "      <td>5.431083e+07</td>\n",
       "      <td>1.553653e+08</td>\n",
       "      <td>109.658549</td>\n",
       "      <td>6.140762</td>\n",
       "      <td>2007.860773</td>\n",
       "    </tr>\n",
       "    <tr>\n",
       "      <th>std</th>\n",
       "      <td>4.858721e+07</td>\n",
       "      <td>2.146698e+08</td>\n",
       "      <td>18.017041</td>\n",
       "      <td>0.764763</td>\n",
       "      <td>4.468841</td>\n",
       "    </tr>\n",
       "    <tr>\n",
       "      <th>min</th>\n",
       "      <td>5.000000e+06</td>\n",
       "      <td>2.033165e+06</td>\n",
       "      <td>63.000000</td>\n",
       "      <td>3.300000</td>\n",
       "      <td>2000.000000</td>\n",
       "    </tr>\n",
       "    <tr>\n",
       "      <th>25%</th>\n",
       "      <td>2.000000e+07</td>\n",
       "      <td>3.456058e+07</td>\n",
       "      <td>97.000000</td>\n",
       "      <td>5.600000</td>\n",
       "      <td>2004.000000</td>\n",
       "    </tr>\n",
       "    <tr>\n",
       "      <th>50%</th>\n",
       "      <td>3.800000e+07</td>\n",
       "      <td>8.361541e+07</td>\n",
       "      <td>107.000000</td>\n",
       "      <td>6.100000</td>\n",
       "      <td>2008.000000</td>\n",
       "    </tr>\n",
       "    <tr>\n",
       "      <th>75%</th>\n",
       "      <td>7.200000e+07</td>\n",
       "      <td>1.782626e+08</td>\n",
       "      <td>120.000000</td>\n",
       "      <td>6.600000</td>\n",
       "      <td>2012.000000</td>\n",
       "    </tr>\n",
       "    <tr>\n",
       "      <th>max</th>\n",
       "      <td>3.800000e+08</td>\n",
       "      <td>2.781506e+09</td>\n",
       "      <td>214.000000</td>\n",
       "      <td>8.100000</td>\n",
       "      <td>2015.000000</td>\n",
       "    </tr>\n",
       "  </tbody>\n",
       "</table>\n",
       "</div>"
      ],
      "text/plain": [
       "             budget       revenue      runtime  vote_average  release_year\n",
       "count  1.889000e+03  1.889000e+03  1889.000000   1889.000000   1889.000000\n",
       "mean   5.431083e+07  1.553653e+08   109.658549      6.140762   2007.860773\n",
       "std    4.858721e+07  2.146698e+08    18.017041      0.764763      4.468841\n",
       "min    5.000000e+06  2.033165e+06    63.000000      3.300000   2000.000000\n",
       "25%    2.000000e+07  3.456058e+07    97.000000      5.600000   2004.000000\n",
       "50%    3.800000e+07  8.361541e+07   107.000000      6.100000   2008.000000\n",
       "75%    7.200000e+07  1.782626e+08   120.000000      6.600000   2012.000000\n",
       "max    3.800000e+08  2.781506e+09   214.000000      8.100000   2015.000000"
      ]
     },
     "execution_count": 707,
     "metadata": {},
     "output_type": "execute_result"
    }
   ],
   "source": [
    "data.describe()"
   ]
  },
  {
   "cell_type": "markdown",
   "metadata": {
    "colab_type": "text",
    "id": "DTIt7ezGVp-G"
   },
   "source": [
    "# Предобработка"
   ]
  },
  {
   "cell_type": "code",
   "execution_count": 708,
   "metadata": {
    "colab": {},
    "colab_type": "code",
    "id": "jNb40DwKVp-H"
   },
   "outputs": [],
   "source": [
    "answers = {} # создадим словарь для ответов\n",
    "\n",
    "# тут другие ваши предобработки колонок например:\n",
    "data['profit'] = data.revenue - data.budget\n",
    "data['release_year'] = data['release_date'].apply(lambda x: int(str(x)[-4:]))\n",
    "data['release_month'] = data['release_date'].apply(lambda x: int(str(x).split('/')[0]))\n",
    "data['len_title'] = data['original_title'].apply(lambda x: len(str(x)))\n",
    "data['len_overview'] = data['overview'].apply(lambda x: len(str(x).split()))\n",
    "#the time given in the dataset is in string format.\n",
    "#So we need to change this in datetime format"
   ]
  },
  {
   "cell_type": "markdown",
   "metadata": {
    "colab_type": "text",
    "id": "YxZaH-nPVp-L"
   },
   "source": [
    "# 1. У какого фильма из списка самый большой бюджет?"
   ]
  },
  {
   "cell_type": "markdown",
   "metadata": {
    "colab_type": "text",
    "id": "Nd-G5gX6Vp-M"
   },
   "source": [
    "Использовать варианты ответов в коде решения запрещено.    \n",
    "Вы думаете и в жизни у вас будут варианты ответов?)"
   ]
  },
  {
   "cell_type": "code",
   "execution_count": 709,
   "metadata": {
    "colab": {},
    "colab_type": "code",
    "id": "uVnXAY5RVp-O"
   },
   "outputs": [],
   "source": [
    "# в словарь вставляем номер вопроса и ваш ответ на него\n",
    "# Пример: \n",
    "answers['1'] = '2. Spider-Man 3 (tt0413300)'\n",
    "# запишите свой вариант ответа\n",
    "answers['1'] = 'tt1298650'\n",
    "# если ответили верно, можете добавить комментарий со значком \"+\""
   ]
  },
  {
   "cell_type": "code",
   "execution_count": 710,
   "metadata": {
    "colab": {},
    "colab_type": "code",
    "id": "dZwb3m28Vp-S"
   },
   "outputs": [
    {
     "data": {
      "text/plain": [
       "'tt1298650'"
      ]
     },
     "execution_count": 710,
     "metadata": {},
     "output_type": "execute_result"
    }
   ],
   "source": [
    "data[data['budget'] == data['budget'].max()].imdb_id.values[0]\n",
    "# +"
   ]
  },
  {
   "cell_type": "markdown",
   "metadata": {
    "colab_type": "text",
    "id": "K7L3nbRXVp-X"
   },
   "source": [
    "ВАРИАНТ 2"
   ]
  },
  {
   "cell_type": "code",
   "execution_count": 711,
   "metadata": {
    "colab": {},
    "colab_type": "code",
    "id": "OGaoQI7rVp-X"
   },
   "outputs": [],
   "source": [
    "# можно добавлять разные варианты решения"
   ]
  },
  {
   "cell_type": "markdown",
   "metadata": {
    "colab_type": "text",
    "id": "FNRbbI3vVp-c"
   },
   "source": [
    "# 2. Какой из фильмов самый длительный (в минутах)?"
   ]
  },
  {
   "cell_type": "code",
   "execution_count": 712,
   "metadata": {
    "colab": {},
    "colab_type": "code",
    "id": "vHAoEXNTVp-d"
   },
   "outputs": [],
   "source": [
    "# думаю логику работы с этим словарем вы уже поняли, \n",
    "# по этому не буду больше его дублировать\n",
    "answers['2'] = 'tt0279111'"
   ]
  },
  {
   "cell_type": "code",
   "execution_count": 713,
   "metadata": {
    "colab": {},
    "colab_type": "code",
    "id": "ot-VX2XrVp-g"
   },
   "outputs": [
    {
     "data": {
      "text/plain": [
       "'tt0279111'"
      ]
     },
     "execution_count": 713,
     "metadata": {},
     "output_type": "execute_result"
    }
   ],
   "source": [
    "data[data['runtime'] == max(data['runtime'])].imdb_id.values[0]\n",
    "# +"
   ]
  },
  {
   "cell_type": "markdown",
   "metadata": {
    "colab_type": "text",
    "id": "bapLlpW8Vp-k"
   },
   "source": [
    "# 3. Какой из фильмов самый короткий (в минутах)?\n",
    "\n",
    "\n",
    "\n"
   ]
  },
  {
   "cell_type": "code",
   "execution_count": 714,
   "metadata": {
    "colab": {},
    "colab_type": "code",
    "id": "YBxaSHuAVp-l"
   },
   "outputs": [],
   "source": [
    "data[data['runtime'] == min(data['runtime'])]\n",
    "answers['3'] = 'tt1449283'\n",
    "# +"
   ]
  },
  {
   "cell_type": "markdown",
   "metadata": {
    "colab_type": "text",
    "id": "TfQbxbfNVp-p"
   },
   "source": [
    "# 4. Какова средняя длительность фильмов?\n"
   ]
  },
  {
   "cell_type": "code",
   "execution_count": 715,
   "metadata": {
    "colab": {},
    "colab_type": "code",
    "id": "5K6dKZYVVp-q",
    "scrolled": false
   },
   "outputs": [],
   "source": [
    "answers['4'] = data['runtime'].mean()\n",
    "# +"
   ]
  },
  {
   "cell_type": "markdown",
   "metadata": {
    "colab_type": "text",
    "id": "r5TvbnT_Vp-u"
   },
   "source": [
    "# 5. Каково медианное значение длительности фильмов? "
   ]
  },
  {
   "cell_type": "code",
   "execution_count": 716,
   "metadata": {
    "colab": {},
    "colab_type": "code",
    "id": "iBROplKnVp-v"
   },
   "outputs": [],
   "source": [
    "answers['5'] = data['runtime'].median()\n",
    "# +"
   ]
  },
  {
   "cell_type": "markdown",
   "metadata": {
    "colab_type": "text",
    "id": "39P-deDSVp-y"
   },
   "source": [
    "# 6. Какой самый прибыльный фильм?\n",
    "#### Внимание! Здесь и далее под «прибылью» или «убытками» понимается разность между сборами и бюджетом фильма. (прибыль = сборы - бюджет) в нашем датасете это будет (profit = revenue - budget) "
   ]
  },
  {
   "cell_type": "code",
   "execution_count": 717,
   "metadata": {
    "colab": {},
    "colab_type": "code",
    "id": "UYZh4T9WVp-y"
   },
   "outputs": [],
   "source": [
    "answers['6'] = data[data['profit'] == data['profit'].max()].imdb_id.values[0]\n",
    "# +"
   ]
  },
  {
   "cell_type": "markdown",
   "metadata": {
    "colab_type": "text",
    "id": "M99JmIX4Vp-2"
   },
   "source": [
    "# 7. Какой фильм самый убыточный? "
   ]
  },
  {
   "cell_type": "code",
   "execution_count": 718,
   "metadata": {
    "colab": {},
    "colab_type": "code",
    "id": "w-D2m4XPVp-3"
   },
   "outputs": [],
   "source": [
    "answers['7'] = data[data['profit'] == data['profit'].min()].imdb_id.values[0]\n",
    "# +"
   ]
  },
  {
   "cell_type": "markdown",
   "metadata": {
    "colab_type": "text",
    "id": "wEOM5ERVVp-6"
   },
   "source": [
    "# 8. У скольких фильмов из датасета объем сборов оказался выше бюджета?"
   ]
  },
  {
   "cell_type": "code",
   "execution_count": 719,
   "metadata": {
    "colab": {},
    "colab_type": "code",
    "id": "y00_7HD6Vp-7"
   },
   "outputs": [],
   "source": [
    "answers['8'] = len(data[data['profit'] > 0])\n",
    "# +"
   ]
  },
  {
   "cell_type": "markdown",
   "metadata": {
    "colab_type": "text",
    "id": "xhpspA9KVp_A"
   },
   "source": [
    "# 9. Какой фильм оказался самым кассовым в 2008 году?"
   ]
  },
  {
   "cell_type": "code",
   "execution_count": 720,
   "metadata": {
    "colab": {},
    "colab_type": "code",
    "id": "MoUyQr9RVp_B"
   },
   "outputs": [],
   "source": [
    "data2008 = data[(data['release_year'] == 2008)]\n",
    "answers['9'] = data2008[data2008['revenue'] == data2008['revenue'].max()].imdb_id.values[0]\n",
    "# +"
   ]
  },
  {
   "cell_type": "markdown",
   "metadata": {
    "colab_type": "text",
    "id": "Zi4hDKidVp_F"
   },
   "source": [
    "# 10. Самый убыточный фильм за период с 2012 по 2014 г. (включительно)?\n"
   ]
  },
  {
   "cell_type": "code",
   "execution_count": 721,
   "metadata": {
    "colab": {},
    "colab_type": "code",
    "id": "XqyRmufJVp_F"
   },
   "outputs": [],
   "source": [
    "temp = data.query('2011<release_year<2015')\n",
    "answers['10'] = temp[temp['profit'] == temp['profit'].min()].imdb_id.values[0]\n",
    "# +"
   ]
  },
  {
   "cell_type": "markdown",
   "metadata": {
    "colab_type": "text",
    "id": "EA7Sa9dkVp_I"
   },
   "source": [
    "# 11. Какого жанра фильмов больше всего?"
   ]
  },
  {
   "cell_type": "code",
   "execution_count": 722,
   "metadata": {
    "colab": {},
    "colab_type": "code",
    "id": "zsJAwJ8QVp_J"
   },
   "outputs": [],
   "source": [
    "# эту задачу тоже можно решать разными подходами, попробуй реализовать разные варианты\n",
    "# если будешь добавлять функцию - выноси ее в предобработку что в начале\n",
    "t = pd.Series([], dtype=pd.StringDtype())\n",
    "for i in data['genres']:\n",
    "    t = t.append(pd.Series(i.split('|')), ignore_index=True)\n",
    "answers['11'] = t.value_counts().index[0]\n",
    "#+"
   ]
  },
  {
   "cell_type": "markdown",
   "metadata": {
    "colab_type": "text",
    "id": "T9_bPWpkVp_Q"
   },
   "source": [
    "# 12. Фильмы какого жанра чаще всего становятся прибыльными? "
   ]
  },
  {
   "cell_type": "code",
   "execution_count": 723,
   "metadata": {
    "colab": {},
    "colab_type": "code",
    "id": "Tmt8MaK1Vp_R"
   },
   "outputs": [],
   "source": [
    "t = pd.Series([], dtype=pd.StringDtype())\n",
    "for i in data.query('profit>0')['genres']:\n",
    "    t = t.append(pd.Series(i.split('|')), ignore_index=True)\n",
    "answers['12'] = t.value_counts().index[0]\n",
    "#+"
   ]
  },
  {
   "cell_type": "markdown",
   "metadata": {
    "colab_type": "text",
    "id": "0F23bgsDVp_U"
   },
   "source": [
    "# 13. У какого режиссера самые большие суммарные кассовые сборы?"
   ]
  },
  {
   "cell_type": "code",
   "execution_count": 724,
   "metadata": {},
   "outputs": [],
   "source": [
    "temp = data.copy()\n",
    "temp['director'] = temp['director'].str.split('|')\n",
    "answers['13'] = temp.explode('director').groupby('director')['revenue'].sum().sort_values(ascending=False).index[0]\n",
    "# +-"
   ]
  },
  {
   "cell_type": "markdown",
   "metadata": {
    "colab_type": "text",
    "id": "PsYC9FgRVp_a"
   },
   "source": [
    "# 14. Какой режисер снял больше всего фильмов в стиле Action?"
   ]
  },
  {
   "cell_type": "code",
   "execution_count": 725,
   "metadata": {},
   "outputs": [],
   "source": [
    "temp = data[data['genres'].str.contains('Action')].copy()\n",
    "temp['director'] = temp['director'].str.split('|')\n",
    "answers['14'] = temp['director'].explode().value_counts().index[0]\n",
    "# -+"
   ]
  },
  {
   "cell_type": "markdown",
   "metadata": {
    "colab_type": "text",
    "id": "PQ0KciD7Vp_f"
   },
   "source": [
    "# 15. Фильмы с каким актером принесли самые высокие кассовые сборы в 2012 году? "
   ]
  },
  {
   "cell_type": "code",
   "execution_count": 726,
   "metadata": {
    "colab": {},
    "colab_type": "code",
    "id": "aga62oeKVp_g"
   },
   "outputs": [],
   "source": [
    "temp = data[data['release_year'] == 2012].copy()\n",
    "temp['cast'] = temp['cast'].str.split('|')\n",
    "answers['15'] = temp.explode('cast').groupby('cast')['revenue'].sum().sort_values(ascending=False).index[0]"
   ]
  },
  {
   "cell_type": "markdown",
   "metadata": {
    "colab_type": "text",
    "id": "mWHyyL7QVp_j"
   },
   "source": [
    "# 16. Какой актер снялся в большем количестве высокобюджетных фильмов?"
   ]
  },
  {
   "cell_type": "code",
   "execution_count": 727,
   "metadata": {
    "colab": {},
    "colab_type": "code",
    "id": "qQtmHKTFVp_k"
   },
   "outputs": [],
   "source": [
    "t = pd.Series([], dtype=pd.StringDtype())\n",
    "for i in data[data['budget']>data['budget'].mean()]['cast']:\n",
    "    t = t.append(pd.Series(i.split('|')), ignore_index=True)\n",
    "answers['16'] = t.value_counts().index[0]"
   ]
  },
  {
   "cell_type": "markdown",
   "metadata": {
    "colab_type": "text",
    "id": "NIh6AaW5Vp_n"
   },
   "source": [
    "# 17. В фильмах какого жанра больше всего снимался Nicolas Cage? "
   ]
  },
  {
   "cell_type": "code",
   "execution_count": 728,
   "metadata": {
    "colab": {},
    "colab_type": "code",
    "id": "H74SJDIBVp_n"
   },
   "outputs": [],
   "source": [
    "t = pd.Series([], dtype=pd.StringDtype())\n",
    "for i in data[data['cast'].str.contains('Nicolas Cage')]['genres']:\n",
    "    t = t.append(pd.Series(i.split('|')), ignore_index=True)\n",
    "answers['17'] = t.value_counts().index[0]"
   ]
  },
  {
   "cell_type": "markdown",
   "metadata": {
    "colab_type": "text",
    "id": "RqOmPRfWVp_q"
   },
   "source": [
    "# 18. Самый убыточный фильм от Paramount Pictures"
   ]
  },
  {
   "cell_type": "code",
   "execution_count": 729,
   "metadata": {
    "colab": {},
    "colab_type": "code",
    "id": "9E_B0Y96Vp_r"
   },
   "outputs": [],
   "source": [
    "temp = data[(data['production_companies'].str.contains('Paramount Pictures'))]\n",
    "answers['18'] = temp[temp['profit'] == temp['profit'].min()].imdb_id.values[0]"
   ]
  },
  {
   "cell_type": "markdown",
   "metadata": {
    "colab_type": "text",
    "id": "vS8Ur6ddVp_u"
   },
   "source": [
    "# 19. Какой год стал самым успешным по суммарным кассовым сборам?"
   ]
  },
  {
   "cell_type": "code",
   "execution_count": 730,
   "metadata": {
    "colab": {},
    "colab_type": "code",
    "id": "Dnbt4GdIVp_v"
   },
   "outputs": [],
   "source": [
    "answers['19'] = data.groupby('release_year')['revenue'].sum().sort_values(ascending=False).index[0]"
   ]
  },
  {
   "cell_type": "markdown",
   "metadata": {
    "colab_type": "text",
    "id": "JAzJh4QAVp_z"
   },
   "source": [
    "# 20. Какой самый прибыльный год для студии Warner Bros?"
   ]
  },
  {
   "cell_type": "code",
   "execution_count": 731,
   "metadata": {
    "colab": {},
    "colab_type": "code",
    "id": "wgVu02DEVp_0"
   },
   "outputs": [],
   "source": [
    "answers['20'] = data[data['production_companies'].str.contains('Warner Bros')].groupby('release_year')['profit'].sum().sort_values(ascending=False).index[0]"
   ]
  },
  {
   "cell_type": "markdown",
   "metadata": {
    "colab_type": "text",
    "id": "8Im1S2HRVp_4"
   },
   "source": [
    "# 21. В каком месяце за все годы суммарно вышло больше всего фильмов?"
   ]
  },
  {
   "cell_type": "code",
   "execution_count": 732,
   "metadata": {
    "colab": {},
    "colab_type": "code",
    "id": "lev6TH7gVp_4"
   },
   "outputs": [],
   "source": [
    "data.groupby('release_month')['revenue'].sum().sort_values(ascending=False)\n",
    "answers['21'] = data['release_month'].value_counts(ascending=False).index[0]"
   ]
  },
  {
   "cell_type": "markdown",
   "metadata": {
    "colab_type": "text",
    "id": "uAJsZ_NeVp_7"
   },
   "source": [
    "# 22. Сколько суммарно вышло фильмов летом? (за июнь, июль, август)"
   ]
  },
  {
   "cell_type": "code",
   "execution_count": 733,
   "metadata": {
    "colab": {},
    "colab_type": "code",
    "id": "Aa-hEREoVp_8"
   },
   "outputs": [],
   "source": [
    "answers['22'] = len(data.query('5<release_month<9'))"
   ]
  },
  {
   "cell_type": "markdown",
   "metadata": {
    "colab_type": "text",
    "id": "G94ppOY1VqAA"
   },
   "source": [
    "# 23. Для какого режиссера зима – самое продуктивное время года? "
   ]
  },
  {
   "cell_type": "code",
   "execution_count": 734,
   "metadata": {
    "colab": {},
    "colab_type": "code",
    "id": "RhNTsamuVqAB"
   },
   "outputs": [],
   "source": [
    "answers['23'] = data.query('release_month == 1 | release_month == 2 | release_month == 12')['director'].value_counts().index[0]"
   ]
  },
  {
   "cell_type": "markdown",
   "metadata": {
    "colab_type": "text",
    "id": "RBo0JVjVVqAF"
   },
   "source": [
    "# 24. Какая студия дает самые длинные названия своим фильмам по количеству символов?"
   ]
  },
  {
   "cell_type": "code",
   "execution_count": 735,
   "metadata": {
    "colab": {},
    "colab_type": "code",
    "id": "QRGS8L0iVqAG"
   },
   "outputs": [],
   "source": [
    "answers['24'] = data[data['len_title'] == data['len_title'].max()].imdb_id.values[0]"
   ]
  },
  {
   "cell_type": "code",
   "execution_count": 736,
   "metadata": {},
   "outputs": [
    {
     "name": "stderr",
     "output_type": "stream",
     "text": [
      "<ipython-input-736-6ce06dac3dc5>:3: UserWarning: Boolean Series key will be reindexed to match DataFrame index.\n",
      "  temp.explode('production_companies')[temp['len_title'] == temp['len_title'].max()]['production_companies']\n"
     ]
    },
    {
     "data": {
      "text/plain": [
       "1448    Twentieth Century Fox Film Corporation\n",
       "1448                   Four By Two Productions\n",
       "Name: production_companies, dtype: object"
      ]
     },
     "execution_count": 736,
     "metadata": {},
     "output_type": "execute_result"
    }
   ],
   "source": [
    "temp = data.copy()\n",
    "temp['production_companies'] = temp['production_companies'].str.split('|')\n",
    "temp.explode('production_companies')[temp['len_title'] == temp['len_title'].max()]['production_companies']"
   ]
  },
  {
   "cell_type": "markdown",
   "metadata": {
    "colab_type": "text",
    "id": "9G0hbvR7VqAK"
   },
   "source": [
    "# 25. Описание фильмов какой студии в среднем самые длинные по количеству слов?"
   ]
  },
  {
   "cell_type": "code",
   "execution_count": 737,
   "metadata": {
    "colab": {},
    "colab_type": "code",
    "id": "Ge2GsLNxVqAK"
   },
   "outputs": [],
   "source": [
    "temp = data.copy()\n",
    "temp['production_companies'] = temp['production_companies'].str.split('|')\n",
    "answers['25'] = temp.explode('production_companies').groupby('production_companies')['len_overview'].mean().sort_values(ascending=False).index[0]\n",
    "#str(data[data['len_overview'] == data['len_overview'].max()]['production_companies']).split('|')"
   ]
  },
  {
   "cell_type": "markdown",
   "metadata": {
    "colab_type": "text",
    "id": "FJ1AFt90VqAP"
   },
   "source": [
    "# 26. Какие фильмы входят в 1 процент лучших по рейтингу? \n",
    "по vote_average"
   ]
  },
  {
   "cell_type": "code",
   "execution_count": 738,
   "metadata": {
    "colab": {},
    "colab_type": "code",
    "id": "8qmJVq4CVqAQ"
   },
   "outputs": [],
   "source": [
    "answers['26'] = data.loc[(data['vote_average'] > data['vote_average'].value_counts(bins=100).index[99].left) & (data['vote_average'] <= data['vote_average'].value_counts(bins=100).index[99].right)].imdb_id\n"
   ]
  },
  {
   "cell_type": "markdown",
   "metadata": {
    "colab_type": "text",
    "id": "MdXsUXbCVqAV"
   },
   "source": [
    "# 27. Какие актеры чаще всего снимаются в одном фильме вместе?\n"
   ]
  },
  {
   "cell_type": "code",
   "execution_count": 739,
   "metadata": {},
   "outputs": [
    {
     "data": {
      "text/plain": [
       "Daniel Radcliffe | Rupert Grint         8\n",
       "Emma Watson | Rupert Grint              8\n",
       "Daniel Radcliffe | Emma Watson          8\n",
       "Ben Stiller | Owen Wilson               6\n",
       "Helena Bonham Carter | Johnny Depp      6\n",
       "                                       ..\n",
       "Alexis Georgoulis | Alistair McGowan    1\n",
       "Aaron Eckhart | Adam Brody              1\n",
       "PenÃ©lope Cruz | Ray Liotta             1\n",
       "Malcolm McDowell | Tyler Mane           1\n",
       "Daniel Gillies | Laz Alonso             1\n",
       "Name: cast, Length: 17943, dtype: int64"
      ]
     },
     "execution_count": 739,
     "metadata": {},
     "output_type": "execute_result"
    }
   ],
   "source": [
    "temp_list = data.cast.str.split('|').copy()\n",
    "temp_list.apply(lambda x: x.sort())\n",
    "temp_list = temp_list.apply(lambda x: list(map(' | '.join,list(map(list,itertools.combinations(x,2))))))\n",
    "temp_list.explode().value_counts(ascending=False)\n"
   ]
  },
  {
   "cell_type": "markdown",
   "metadata": {
    "colab_type": "text",
    "id": "U0nONFnGVqAX"
   },
   "source": [
    "# Submission"
   ]
  },
  {
   "cell_type": "code",
   "execution_count": 740,
   "metadata": {
    "colab": {},
    "colab_type": "code",
    "id": "IfcaRO9-VqAX",
    "outputId": "0f132912-32bb-4196-c98c-abfbc4ad5a5f"
   },
   "outputs": [
    {
     "data": {
      "text/plain": [
       "{'1': 'tt1298650',\n",
       " '2': 'tt0279111',\n",
       " '3': 'tt1449283',\n",
       " '4': 109.6585494970884,\n",
       " '5': 107.0,\n",
       " '6': 'tt0499549',\n",
       " '7': 'tt1210819',\n",
       " '8': 1478,\n",
       " '9': 'tt0468569',\n",
       " '10': 'tt1210819',\n",
       " '11': 'Drama',\n",
       " '12': 'Drama',\n",
       " '13': 'Peter Jackson',\n",
       " '14': 'Robert Rodriguez',\n",
       " '15': 'Chris Hemsworth',\n",
       " '16': 'Matt Damon',\n",
       " '17': 'Action',\n",
       " '18': 'tt0267626',\n",
       " '19': 2015,\n",
       " '20': 2014,\n",
       " '21': 9,\n",
       " '22': 450,\n",
       " '23': 'Peter Jackson',\n",
       " '24': 'tt0443453',\n",
       " '25': 'Midnight Picture Show',\n",
       " '26': 76      tt1528854\n",
       " 97      tt2279373\n",
       " 112     tt1018765\n",
       " 117     tt3614530\n",
       " 183     tt1234721\n",
       "           ...    \n",
       " 1832    tt0215129\n",
       " 1846    tt0204946\n",
       " 1851    tt0209958\n",
       " 1871    tt0171433\n",
       " 1873    tt0160009\n",
       " Name: imdb_id, Length: 84, dtype: object}"
      ]
     },
     "execution_count": 740,
     "metadata": {},
     "output_type": "execute_result"
    }
   ],
   "source": [
    "# в конце можно посмотреть свои ответы к каждому вопросу\n",
    "answers"
   ]
  },
  {
   "cell_type": "code",
   "execution_count": 629,
   "metadata": {
    "colab": {},
    "colab_type": "code",
    "id": "SiRmHPl8VqAd"
   },
   "outputs": [
    {
     "data": {
      "text/plain": [
       "26"
      ]
     },
     "execution_count": 629,
     "metadata": {},
     "output_type": "execute_result"
    }
   ],
   "source": [
    "# и убедиться что ни чего не пропустил)\n",
    "len(answers)"
   ]
  },
  {
   "cell_type": "code",
   "execution_count": null,
   "metadata": {
    "colab": {},
    "colab_type": "code",
    "id": "uCfuTkRbVqAg"
   },
   "outputs": [],
   "source": []
  },
  {
   "cell_type": "code",
   "execution_count": null,
   "metadata": {
    "colab": {},
    "colab_type": "code",
    "id": "Vwx3NrkSVqAl"
   },
   "outputs": [],
   "source": []
  }
 ],
 "metadata": {
  "colab": {
   "name": "Copy of [SF-DST] Movies IMBD v4.1 TEMPLATE.ipynb",
   "provenance": []
  },
  "kernelspec": {
   "display_name": "Python 3",
   "language": "python",
   "name": "python3"
  },
  "language_info": {
   "codemirror_mode": {
    "name": "ipython",
    "version": 3
   },
   "file_extension": ".py",
   "mimetype": "text/x-python",
   "name": "python",
   "nbconvert_exporter": "python",
   "pygments_lexer": "ipython3",
   "version": "3.8.5"
  }
 },
 "nbformat": 4,
 "nbformat_minor": 1
}
